{
 "cells": [
  {
   "cell_type": "markdown",
   "id": "651eb066",
   "metadata": {},
   "source": [
    "# VARIABLES"
   ]
  },
  {
   "cell_type": "code",
   "execution_count": 2,
   "id": "86b9eef0",
   "metadata": {},
   "outputs": [
    {
     "name": "stdout",
     "output_type": "stream",
     "text": [
      "hola\n"
     ]
    }
   ],
   "source": [
    "print (\"hola\")"
   ]
  },
  {
   "cell_type": "code",
   "execution_count": 3,
   "id": "5f228ea1",
   "metadata": {},
   "outputs": [],
   "source": [
    "variable=1\n",
    "variable2=2"
   ]
  },
  {
   "cell_type": "code",
   "execution_count": 16,
   "id": "122578b2",
   "metadata": {},
   "outputs": [
    {
     "data": {
      "text/plain": [
       "3"
      ]
     },
     "execution_count": 16,
     "metadata": {},
     "output_type": "execute_result"
    }
   ],
   "source": [
    "resultado=variable2+variable\n",
    "resultado"
   ]
  },
  {
   "cell_type": "code",
   "execution_count": 11,
   "id": "85cc1f24",
   "metadata": {},
   "outputs": [],
   "source": [
    "a=\"hola\"\n",
    "b=\" mundo\""
   ]
  },
  {
   "cell_type": "code",
   "execution_count": 17,
   "id": "3763c17e",
   "metadata": {},
   "outputs": [
    {
     "name": "stdout",
     "output_type": "stream",
     "text": [
      "hola mundo\n"
     ]
    }
   ],
   "source": [
    "#CONCATENA (junta a y b)\n",
    "\n",
    "print(a + b)\n"
   ]
  },
  {
   "cell_type": "code",
   "execution_count": 19,
   "id": "72c1265b",
   "metadata": {},
   "outputs": [
    {
     "name": "stdout",
     "output_type": "stream",
     "text": [
      "El resultado es3\n"
     ]
    }
   ],
   "source": [
    "#CONVERTIR ENTEROS EN CADENS str\n",
    "#str CONVIERTE UNA VARIABLE A CADENA\n",
    "#INT CONVIERTE UNA VARIBALE A ENTERO\n",
    "#FLOAT CONVIERTE UNA VARIABLE A FLOTANTE\n",
    "\n",
    "print(\"El resultado es\"+str(resultado))"
   ]
  },
  {
   "cell_type": "code",
   "execution_count": 23,
   "id": "f385addb",
   "metadata": {},
   "outputs": [
    {
     "data": {
      "text/plain": [
       "5.0"
      ]
     },
     "execution_count": 23,
     "metadata": {},
     "output_type": "execute_result"
    }
   ],
   "source": [
    "#TYPE dice el tipo de dato\n",
    "x=5\n",
    "y=9.9\n",
    "z=\"hola\"\n",
    "w=0.0\n",
    "r=x+w\n",
    "r\n"
   ]
  },
  {
   "cell_type": "code",
   "execution_count": 28,
   "id": "9606f2fa",
   "metadata": {},
   "outputs": [
    {
     "name": "stdout",
     "output_type": "stream",
     "text": [
      "La suma es=14.9\n"
     ]
    }
   ],
   "source": [
    "suma=x+y\n",
    "resta=x-y\n",
    "multiplicacion=x*y\n",
    "division=x/y\n",
    "potencia= x**8\n",
    "\n",
    "print(\"La suma es=\"+ str(suma))"
   ]
  },
  {
   "cell_type": "markdown",
   "id": "09ff57a7",
   "metadata": {},
   "source": [
    "## TUPLAS\n"
   ]
  },
  {
   "cell_type": "code",
   "execution_count": 11,
   "id": "91d93734",
   "metadata": {},
   "outputs": [
    {
     "data": {
      "text/plain": [
       "2"
      ]
     },
     "execution_count": 11,
     "metadata": {},
     "output_type": "execute_result"
    }
   ],
   "source": [
    "tupla =(25,60,\"hola\",(\"tupla\"),25)\n",
    "tupla\n",
    "tupla.count (25)"
   ]
  },
  {
   "cell_type": "markdown",
   "id": "9b5e5b63",
   "metadata": {},
   "source": [
    "## DICCIONARIO\n"
   ]
  },
  {
   "cell_type": "code",
   "execution_count": 40,
   "id": "c53053c8",
   "metadata": {},
   "outputs": [
    {
     "data": {
      "text/plain": [
       "'omar'"
      ]
     },
     "execution_count": 40,
     "metadata": {},
     "output_type": "execute_result"
    }
   ],
   "source": [
    "mi_diccionario = {\"clave\":\"valor\"}\n",
    "diccionario ={\"nombre\":\"omar\",\"edad\":\"34\",\"ocupacion\":\"sistemas\",\"contrasena\":(\"3124\",\"totopo\")}\n",
    "diccionario [\"nombre\"]"
   ]
  },
  {
   "cell_type": "code",
   "execution_count": 2,
   "id": "ce2bac46",
   "metadata": {},
   "outputs": [
    {
     "ename": "NameError",
     "evalue": "name 'diccionario' is not defined",
     "output_type": "error",
     "traceback": [
      "\u001b[1;31m---------------------------------------------------------------------------\u001b[0m",
      "\u001b[1;31mNameError\u001b[0m                                 Traceback (most recent call last)",
      "\u001b[1;32m<ipython-input-2-03955854ac07>\u001b[0m in \u001b[0;36m<module>\u001b[1;34m\u001b[0m\n\u001b[1;32m----> 1\u001b[1;33m \u001b[0mprint\u001b[0m\u001b[1;33m(\u001b[0m\u001b[1;34m\"Minombre es:\"\u001b[0m\u001b[1;33m+\u001b[0m \u001b[0mdiccionario\u001b[0m\u001b[1;33m[\u001b[0m\u001b[1;34m\"nombre\"\u001b[0m\u001b[1;33m]\u001b[0m\u001b[1;33m)\u001b[0m\u001b[1;33m\u001b[0m\u001b[1;33m\u001b[0m\u001b[0m\n\u001b[0m\u001b[0;32m      2\u001b[0m \u001b[0mprint\u001b[0m\u001b[1;33m(\u001b[0m\u001b[1;34m\"Mi edad es:\"\u001b[0m \u001b[1;33m+\u001b[0m \u001b[0mdiccionario\u001b[0m\u001b[1;33m[\u001b[0m\u001b[1;34m\"edad\"\u001b[0m\u001b[1;33m]\u001b[0m\u001b[1;33m)\u001b[0m\u001b[1;33m\u001b[0m\u001b[1;33m\u001b[0m\u001b[0m\n\u001b[0;32m      3\u001b[0m \u001b[0mprint\u001b[0m\u001b[1;33m(\u001b[0m\u001b[1;34m\"Mi contraseña es:\"\u001b[0m \u001b[1;33m+\u001b[0m \u001b[0mdiccionario\u001b[0m\u001b[1;33m[\u001b[0m\u001b[1;34m\"contrasena\"\u001b[0m\u001b[1;33m]\u001b[0m\u001b[1;33m[\u001b[0m\u001b[1;36m0\u001b[0m\u001b[1;33m]\u001b[0m\u001b[1;33m)\u001b[0m\u001b[1;33m\u001b[0m\u001b[1;33m\u001b[0m\u001b[0m\n",
      "\u001b[1;31mNameError\u001b[0m: name 'diccionario' is not defined"
     ]
    }
   ],
   "source": [
    "print(\"Minombre es:\"+ diccionario[\"nombre\"])\n",
    "print(\"Mi edad es:\" + diccionario[\"edad\"])\n",
    "print(\"Mi contraseña es:\" + diccionario[\"contrasena\"][0])"
   ]
  },
  {
   "cell_type": "markdown",
   "id": "c6d78790",
   "metadata": {},
   "source": [
    "# La IDENTACION\n",
    "\n",
    "# La identacion es el espacio que va a determinar el bloque de un ciclo"
   ]
  },
  {
   "cell_type": "markdown",
   "id": "d24d4db9",
   "metadata": {},
   "source": [
    "# CICLO IF\n",
    "# Nos permite tomar desiciones para controlar el flujo de un programa"
   ]
  },
  {
   "cell_type": "markdown",
   "id": "c35a52bd",
   "metadata": {},
   "source": [
    "* Igual == cuando las variables son iguales\n",
    "* Diferente != cuando las variables no son iguales\n",
    "* Mayor que > Cuando la variable de la izquierda es mayor que la derecha\n",
    "* Menor que < Cuando la variable de la izquierda es menor que la derecha\n",
    "* Mayor igual que >= Cuando la variable de la izquierda es mayor o igual que la de la dercha\n",
    "* Menor o igual que <= Cuando la variable de la izquierda es menor o igual que la de la derecha"
   ]
  },
  {
   "cell_type": "markdown",
   "id": "9d94c980",
   "metadata": {},
   "source": [
    "## Operadores logicos\n",
    "* Condicion and Condicion 2  Es valido cuando la condicion 1 y la condicion dos se cumplen\n",
    "* Condicion or Condicion 2 Es valido cuando alguna de las dos condiciones se cumple"
   ]
  },
  {
   "cell_type": "code",
   "execution_count": 19,
   "id": "72d5bac1",
   "metadata": {},
   "outputs": [],
   "source": [
    "variable = True\n"
   ]
  },
  {
   "cell_type": "code",
   "execution_count": 22,
   "id": "2d28ac31",
   "metadata": {},
   "outputs": [
    {
     "name": "stdout",
     "output_type": "stream",
     "text": [
      "si\n"
     ]
    }
   ],
   "source": [
    "if(variable == True):\n",
    "    print(\"si\")\n",
    "else:\n",
    "    print(\"no\")"
   ]
  },
  {
   "cell_type": "code",
   "execution_count": 2,
   "id": "2ae73b88",
   "metadata": {
    "scrolled": true
   },
   "outputs": [
    {
     "name": "stdout",
     "output_type": "stream",
     "text": [
      "Define tu altura en centimetros50\n",
      "ingresa una altura correcta\n"
     ]
    }
   ],
   "source": [
    "#Programa para definir la altura\n",
    "altura = int(input(\"Define tu altura en centimetros\"))\n",
    "\n",
    "if(altura>= 120 and altura<=230):\n",
    "    print(\"puedes subir al juego\")\n",
    "    \n",
    "elif(altura <120 and altura>=100):\n",
    "    print(\"no puedes subir al juego\")\n",
    "else:\n",
    "    print(\"ingresa una altura correcta\")"
   ]
  },
  {
   "cell_type": "markdown",
   "id": "dfdc40b5",
   "metadata": {},
   "source": [
    "## CICLO FOR\n",
    "Repetira el bloque de un codigo de 1 hasta N cantidad de veces"
   ]
  },
  {
   "cell_type": "code",
   "execution_count": 2,
   "id": "7b4a0682",
   "metadata": {},
   "outputs": [
    {
     "name": "stdout",
     "output_type": "stream",
     "text": [
      "0\n",
      "1\n",
      "2\n",
      "3\n",
      "4\n",
      "5\n",
      "6\n",
      "7\n",
      "8\n",
      "9\n"
     ]
    }
   ],
   "source": [
    "#nos apoyamos de una funcion llamada range (inicio,fin de cuanto en cuanto)\n",
    "for i in range(0,10):\n",
    "    print (i)"
   ]
  },
  {
   "cell_type": "code",
   "execution_count": 4,
   "id": "980d8f00",
   "metadata": {},
   "outputs": [
    {
     "name": "stdout",
     "output_type": "stream",
     "text": [
      "python,\n",
      "10\n",
      "5\n"
     ]
    }
   ],
   "source": [
    "lista = [\"python,\",10,5]\n",
    "for i in lista:\n",
    "    print (i)"
   ]
  },
  {
   "cell_type": "code",
   "execution_count": 6,
   "id": "f63e0f37",
   "metadata": {},
   "outputs": [
    {
     "name": "stdout",
     "output_type": "stream",
     "text": [
      "0\n",
      "2\n",
      "4\n",
      "6\n",
      "8\n"
     ]
    }
   ],
   "source": [
    "for i in range (0,10,2):\n",
    "    print (i)"
   ]
  },
  {
   "cell_type": "code",
   "execution_count": 9,
   "id": "4ab334ae",
   "metadata": {},
   "outputs": [
    {
     "name": "stdout",
     "output_type": "stream",
     "text": [
      "El resultado es8.833333333333334\n"
     ]
    }
   ],
   "source": [
    "promedio =[10,10,9,10,8,6]\n",
    "suma=0\n",
    "for i in promedio:\n",
    "    suma=suma+i\n",
    "#len ()regresa el numero de elementos que contiene la lista\n",
    "\n",
    "n=len(promedio)\n",
    "resultado =suma/n\n",
    "print(\"El resultado es\"+str(resultado))"
   ]
  },
  {
   "cell_type": "markdown",
   "id": "7965af8a",
   "metadata": {},
   "source": [
    "## WHILE\n",
    "## Repite un bloque mientras se cumpla una condision\n"
   ]
  },
  {
   "cell_type": "code",
   "execution_count": 11,
   "id": "cc091d52",
   "metadata": {},
   "outputs": [
    {
     "name": "stdout",
     "output_type": "stream",
     "text": [
      "0\n",
      "1\n",
      "2\n",
      "3\n",
      "4\n",
      "5\n",
      "6\n",
      "7\n",
      "8\n",
      "9\n"
     ]
    }
   ],
   "source": [
    "detener = 0\n",
    "while detener < 10:\n",
    "    print(detener)\n",
    "    detener = detener +1"
   ]
  },
  {
   "cell_type": "code",
   "execution_count": 22,
   "id": "e723c612",
   "metadata": {},
   "outputs": [
    {
     "name": "stdout",
     "output_type": "stream",
     "text": [
      "Ingresa una edad:200\n",
      "Ingresa una edad correcta\n",
      "Vuelve a ingresar la edad101\n",
      "Ingresa una edad correcta\n",
      "Vuelve a ingresar la edad90\n",
      "Su edad es: 90\n"
     ]
    }
   ],
   "source": [
    "edad = int (input(\"Ingresa una edad:\"))\n",
    "while edad >100 or edad < 0:\n",
    "    print(\"Ingresa una edad correcta\")\n",
    "    edad= int (input(\"Vuelve a ingresar la edad\"))\n",
    "print (\"Su edad es: \"+str(edad))"
   ]
  },
  {
   "cell_type": "markdown",
   "id": "f96edf47",
   "metadata": {},
   "source": [
    "## FUNCIONES"
   ]
  },
  {
   "cell_type": "code",
   "execution_count": 1,
   "id": "5c20c47a",
   "metadata": {},
   "outputs": [],
   "source": [
    "def suma(a,b):\n",
    "    resultado = a + b\n",
    "    return resultado\n",
    "\n",
    "def resta(a,b):\n",
    "    resultado = a - b\n",
    "    return resultado\n",
    "\n",
    "def multiplicacion(a,b):\n",
    "    resultado = a * b\n",
    "    return resultado\n",
    "\n",
    "def division(a,b):\n",
    "    resultado = a / b\n",
    "    return resultado\n",
    "\n"
   ]
  },
  {
   "cell_type": "code",
   "execution_count": 30,
   "id": "039e9981",
   "metadata": {},
   "outputs": [
    {
     "name": "stdout",
     "output_type": "stream",
     "text": [
      "Ingresa el total de tu compra=501\n",
      "El total con tu descuento del 10% es= 450.9\n"
     ]
    }
   ],
   "source": [
    "compra= float(input(\"Ingresa el total de tu compra=\"))\n",
    "\n",
    "if(compra <= 500):\n",
    "    print(\"No hay descuento\")\n",
    "\n",
    "elif (compra >500 and compra<1000):\n",
    "    \n",
    "    \n",
    "    resultado=compra-(compra * 0.10)\n",
    "    print(\"El total con tu descuento del 10% es= \"+str(resultado))\n",
    "\n",
    "\n",
    "elif (compra >1000 and compra<1500):\n",
    "    \n",
    "   \n",
    "    resultado1=compra-(compra * 0.15)\n",
    "    print(\"El total con tu descuento del 15% es= \"+str(resultado1))  \n",
    "    \n",
    "elif (compra >1500):\n",
    "    \n",
    "   \n",
    "    resultado1=compra-(compra * 0.20)\n",
    "    print(\"El total con tu descuento del 20% es= \"+str(resultado1)) \n",
    "\n",
    "\n",
    "\n"
   ]
  },
  {
   "cell_type": "code",
   "execution_count": 36,
   "id": "d830e018",
   "metadata": {},
   "outputs": [
    {
     "name": "stdout",
     "output_type": "stream",
     "text": [
      "Ingresa el total de tu compra=501\n",
      "El total con tu descuento del 10% es= 450.9\n"
     ]
    }
   ],
   "source": [
    "\n",
    "\n",
    "def descuento(compra):\n",
    "    \n",
    "    if(compra <= 500):\n",
    "        print(\"No hay descuento\")\n",
    "\n",
    "    elif (compra >500 and compra<1000):\n",
    "    \n",
    "    \n",
    "        resultado=compra-(compra * 0.10)\n",
    "        print(\"El total con tu descuento del 10% es= \"+str(resultado))\n",
    "\n",
    "\n",
    "    elif (compra >1000 and compra<1500):\n",
    "    \n",
    "   \n",
    "        resultado1=compra-(compra * 0.15)\n",
    "        print(\"El total con tu descuento del 15% es= \"+str(resultado1))  \n",
    "    \n",
    "    elif (compra >1500):\n",
    "    \n",
    "   \n",
    "        resultado1=compra-(compra * 0.20)\n",
    "        print(\"El total con tu descuento del 20% es= \"+str(resultado1)) \n",
    "        \n",
    "compra= float(input(\"Ingresa el total de tu compra=\")) \n",
    "descuento(compra)"
   ]
  }
 ],
 "metadata": {
  "kernelspec": {
   "display_name": "Python 3",
   "language": "python",
   "name": "python3"
  },
  "language_info": {
   "codemirror_mode": {
    "name": "ipython",
    "version": 3
   },
   "file_extension": ".py",
   "mimetype": "text/x-python",
   "name": "python",
   "nbconvert_exporter": "python",
   "pygments_lexer": "ipython3",
   "version": "3.8.8"
  }
 },
 "nbformat": 4,
 "nbformat_minor": 5
}
