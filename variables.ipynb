{
 "cells": [
  {
   "cell_type": "markdown",
   "metadata": {},
   "source": [
    "# Variables en python\n",
    "Taller introductorio a la programación"
   ]
  },
  {
   "cell_type": "code",
   "execution_count": 1,
   "metadata": {},
   "outputs": [
    {
     "name": "stdout",
     "output_type": "stream",
     "text": [
      "hola mundo\n"
     ]
    }
   ],
   "source": [
    "print(\"hola mundo\")"
   ]
  },
  {
   "cell_type": "code",
   "execution_count": 8,
   "metadata": {},
   "outputs": [
    {
     "name": "stdout",
     "output_type": "stream",
     "text": [
      "hola mundo 9\n"
     ]
    }
   ],
   "source": [
    "a = \"hola\"\n",
    "b = \"mundo\"\n",
    "c = 9\n",
    "#Comentario de linea \n",
    "\"\"\"\n",
    "str() funciona \n",
    "para convertir un \n",
    "numero en cadena\n",
    "\"\"\"\n",
    "print(a+\" \"+b+\" \"+str(c))"
   ]
  },
  {
   "cell_type": "code",
   "execution_count": 32,
   "metadata": {},
   "outputs": [
    {
     "name": "stdout",
     "output_type": "stream",
     "text": [
      "El resultado de la suma es: 11.6\n",
      "El resultado de la resta es: -1.5999999999999996\n",
      "El resultado de la multiplicacion es: 33.0\n",
      "El resultado de la division es: 0.7575757575757576\n",
      "La potencia de 5 es: 25\n"
     ]
    }
   ],
   "source": [
    "num_1 = 5\n",
    "num_2 = 6.6\n",
    "\n",
    "suma = num_1 + num_2\n",
    "resta = num_1 - num_2\n",
    "multiplicacion = num_1 * num_2\n",
    "division = num_1 / num_2\n",
    "potencia = num_1 ** 2\n",
    "\n",
    "print(\"El resultado de la suma es: \"+str(suma))\n",
    "print(\"El resultado de la resta es: \"+str(resta))\n",
    "print(\"El resultado de la multiplicacion es: \"+str(multiplicacion))\n",
    "print(\"El resultado de la division es: \"+str(division))\n",
    "print(\"La potencia de \"+str(num_1)+\" es: \"+str(potencia))"
   ]
  },
  {
   "cell_type": "markdown",
   "metadata": {},
   "source": [
    "###### Lista\n"
   ]
  },
  {
   "cell_type": "code",
   "execution_count": 1,
   "metadata": {},
   "outputs": [],
   "source": [
    "lista_1 = [22,35,54,60,\"Hola\", [8,1]]"
   ]
  },
  {
   "cell_type": "code",
   "execution_count": 7,
   "metadata": {},
   "outputs": [
    {
     "data": {
      "text/plain": [
       "60"
      ]
     },
     "execution_count": 7,
     "metadata": {},
     "output_type": "execute_result"
    }
   ],
   "source": [
    "lista_1[3]"
   ]
  }
 ],
 "metadata": {
  "kernelspec": {
   "display_name": "Python 3",
   "language": "python",
   "name": "python3"
  },
  "language_info": {
   "codemirror_mode": {
    "name": "ipython",
    "version": 3
   },
   "file_extension": ".py",
   "mimetype": "text/x-python",
   "name": "python",
   "nbconvert_exporter": "python",
   "pygments_lexer": "ipython3",
   "version": "3.8.8"
  }
 },
 "nbformat": 4,
 "nbformat_minor": 4
}
