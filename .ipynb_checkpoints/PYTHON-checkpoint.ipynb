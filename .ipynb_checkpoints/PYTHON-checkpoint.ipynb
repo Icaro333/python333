{
 "cells": [
  {
   "cell_type": "markdown",
   "id": "6c6bb32b",
   "metadata": {},
   "source": [
    "# Variables de Python\n",
    "\n"
   ]
  },
  {
   "cell_type": "code",
   "execution_count": 3,
   "id": "61cae49c",
   "metadata": {},
   "outputs": [
    {
     "name": "stdout",
     "output_type": "stream",
     "text": [
      "hola\n"
     ]
    }
   ],
   "source": [
    "print (\"hola\")"
   ]
  },
  {
   "cell_type": "code",
   "execution_count": 7,
   "id": "9f641c3b",
   "metadata": {},
   "outputs": [
    {
     "name": "stdout",
     "output_type": "stream",
     "text": [
      "5\n"
     ]
    }
   ],
   "source": [
    "A=2;\n",
    "B=3;\n",
    "C=A+B\n",
    "print(C)"
   ]
  },
  {
   "cell_type": "code",
   "execution_count": 20,
   "id": "740c340d",
   "metadata": {},
   "outputs": [
    {
     "name": "stdout",
     "output_type": "stream",
     "text": [
      "hello j' s ampelle omar \n",
      "¡¡¡\n"
     ]
    }
   ],
   "source": [
    "a=\"hello\"\n",
    "b=\"j' s ampelle omar\"\n",
    "c=\"¡¡¡\"\n",
    "print(a+\" \"+b +\" \" + \"\\n\" +str(c))"
   ]
  },
  {
   "cell_type": "markdown",
   "id": "c1d2a747",
   "metadata": {},
   "source": [
    "str funciona para convertir datos a cadenas"
   ]
  },
  {
   "cell_type": "code",
   "execution_count": 39,
   "id": "2222cb10",
   "metadata": {},
   "outputs": [
    {
     "name": "stdout",
     "output_type": "stream",
     "text": [
      "11\n"
     ]
    }
   ],
   "source": [
    "num_1=5\n",
    "num_2=6\n",
    "\n",
    "res= num_1 + num_2\n",
    "\n",
    "print( res)"
   ]
  },
  {
   "cell_type": "code",
   "execution_count": 58,
   "id": "af9bdeb7",
   "metadata": {},
   "outputs": [
    {
     "name": "stdout",
     "output_type": "stream",
     "text": [
      "el resultado de la suma es 11.6\n",
      "el resultado de la resta es -1.5999999999999996\n",
      "el resultado de la multiplicacion es 33.0\n",
      "el resultado de la division es 0.7575757575757576\n",
      "el resultado de la potencia de 5 es 25\n"
     ]
    }
   ],
   "source": [
    "num_1=5\n",
    "num_2=6.6\n",
    "\n",
    "suma= num_1 + num_2\n",
    "resta= num_1 - num_2\n",
    "multipli= num_1* num_2\n",
    "division=num_1 / num_2\n",
    "potencia=num_1 ** 2\n",
    "\n",
    "print(\"el resultado de la suma es \" + str(suma))\n",
    "print(\"el resultado de la resta es \" + str(resta))\n",
    "print(\"el resultado de la multiplicacion es \" + str(multipli))\n",
    "print(\"el resultado de la division es \" + str(division))\n",
    "print(\"el resultado de la potencia de \"+str(num_1) +\" es \"+ str(potencia))\n"
   ]
  },
  {
   "cell_type": "code",
   "execution_count": 31,
   "id": "2a861b19",
   "metadata": {},
   "outputs": [],
   "source": [
    "lista_1= [22,55,\"hola\",[8*2]]\n",
    "\n"
   ]
  },
  {
   "cell_type": "markdown",
   "id": "e7fd837c",
   "metadata": {},
   "source": [
    "##### LISTA\n",
    "Conjunto de elementos almacenados en una sola variable.\n",
    "dicha lista puede ser modificada."
   ]
  },
  {
   "cell_type": "code",
   "execution_count": 83,
   "id": "610f366b",
   "metadata": {},
   "outputs": [],
   "source": [
    "lista_1=[22,35,54,60,\"Hola\", [8,1]]"
   ]
  },
  {
   "cell_type": "code",
   "execution_count": 90,
   "id": "04eacb06",
   "metadata": {},
   "outputs": [
    {
     "data": {
      "text/plain": [
       "[22,\n",
       " 35,\n",
       " 54,\n",
       " 'Hola',\n",
       " [8, 1],\n",
       " 'curso python',\n",
       " 'curso python',\n",
       " 'curso python',\n",
       " 'curso python',\n",
       " 'curso python',\n",
       " 'curso python']"
      ]
     },
     "execution_count": 90,
     "metadata": {},
     "output_type": "execute_result"
    }
   ],
   "source": [
    "##append () ayudar agregar un elemento al final de la lista\n",
    "\n",
    "lista_1.append(\"curso python\")\n",
    "lista_1"
   ]
  },
  {
   "cell_type": "code",
   "execution_count": 52,
   "id": "d9f2cae2",
   "metadata": {},
   "outputs": [
    {
     "data": {
      "text/plain": [
       "'curso python'"
      ]
     },
     "execution_count": 52,
     "metadata": {},
     "output_type": "execute_result"
    }
   ],
   "source": [
    "lista_1[6]"
   ]
  },
  {
   "cell_type": "code",
   "execution_count": 34,
   "id": "fc47b893",
   "metadata": {},
   "outputs": [
    {
     "data": {
      "text/plain": [
       "[22, 35, 54, 60, 'Hola', [8, 1]]"
      ]
     },
     "execution_count": 34,
     "metadata": {},
     "output_type": "execute_result"
    }
   ],
   "source": [
    "#pop() nos ayuda a quitar un elemento al final de la lista\n",
    "lista_1.pop()\n",
    "lista_1"
   ]
  },
  {
   "cell_type": "code",
   "execution_count": 91,
   "id": "ebbfe1dc",
   "metadata": {},
   "outputs": [
    {
     "data": {
      "text/plain": [
       "6"
      ]
     },
     "execution_count": 91,
     "metadata": {},
     "output_type": "execute_result"
    }
   ],
   "source": [
    "#count sirve parta contar las veces\n",
    "\n",
    "lista_1.count(\"curso python\")"
   ]
  },
  {
   "cell_type": "code",
   "execution_count": 92,
   "id": "3a63860a",
   "metadata": {},
   "outputs": [
    {
     "data": {
      "text/plain": [
       "1"
      ]
     },
     "execution_count": 92,
     "metadata": {},
     "output_type": "execute_result"
    }
   ],
   "source": [
    "##index() recibe un elemento y regresa el valor del indice donde aparece el elemento\n",
    "lista_1.index(35)"
   ]
  },
  {
   "cell_type": "code",
   "execution_count": 73,
   "id": "f2a021b9",
   "metadata": {},
   "outputs": [
    {
     "data": {
      "text/plain": [
       "[22, 35, 55, 54, 60, 55, 'Hola', [8, 1]]"
      ]
     },
     "execution_count": 73,
     "metadata": {},
     "output_type": "execute_result"
    }
   ],
   "source": [
    "#insert (i,x) i es el indice a agregar x es el elmento\n",
    "\n",
    "lista_1.insert(5,55)\n",
    "lista_1"
   ]
  },
  {
   "cell_type": "code",
   "execution_count": 84,
   "id": "2a0d430f",
   "metadata": {},
   "outputs": [
    {
     "data": {
      "text/plain": [
       "[22, 35, 54, 'Hola', [8, 1]]"
      ]
     },
     "execution_count": 84,
     "metadata": {},
     "output_type": "execute_result"
    }
   ],
   "source": [
    "#remove (elemento) elimina el valor de mi lista\n",
    "lista_1.remove(60)\n",
    "lista_1"
   ]
  },
  {
   "cell_type": "markdown",
   "id": "6e529e8d",
   "metadata": {},
   "source": [
    "### Tuplas\n",
    "Conjunto de elementos ordenados almacenados en una sola variable.\n",
    "Con la diferencia que no es modificable\n"
   ]
  },
  {
   "cell_type": "code",
   "execution_count": 101,
   "id": "4acbf0cd",
   "metadata": {},
   "outputs": [
    {
     "data": {
      "text/plain": [
       "('soy una tupla', 22, 30, 446, [5.2], ('hola', 'mundo'), 10)"
      ]
     },
     "execution_count": 101,
     "metadata": {},
     "output_type": "execute_result"
    }
   ],
   "source": [
    "mi_tupla=(\"soy una tupla\",22,30,446,[5.2],(\"hola\",\"mundo\"),10)\n",
    "mi_tupla"
   ]
  },
  {
   "cell_type": "code",
   "execution_count": 102,
   "id": "7da83e1c",
   "metadata": {},
   "outputs": [
    {
     "data": {
      "text/plain": [
       "1"
      ]
     },
     "execution_count": 102,
     "metadata": {},
     "output_type": "execute_result"
    }
   ],
   "source": [
    "#count(elemento) Recibe un elemento y regresa la cantidad de veces que aparece\n",
    "mi_tupla.count(22)"
   ]
  },
  {
   "cell_type": "code",
   "execution_count": 103,
   "id": "908fd43d",
   "metadata": {},
   "outputs": [
    {
     "data": {
      "text/plain": [
       "2"
      ]
     },
     "execution_count": 103,
     "metadata": {},
     "output_type": "execute_result"
    }
   ],
   "source": [
    "#index(elemento) recibe un elemento y regresa el indice donde aparece el elemento\n",
    "mi_tupla.index(30)"
   ]
  },
  {
   "cell_type": "code",
   "execution_count": 108,
   "id": "d0607f55",
   "metadata": {},
   "outputs": [
    {
     "data": {
      "text/plain": [
       "'l'"
      ]
     },
     "execution_count": 108,
     "metadata": {},
     "output_type": "execute_result"
    }
   ],
   "source": [
    "# Busqueda en una tupla\n",
    "mi_tupla[5][0][2]"
   ]
  },
  {
   "cell_type": "markdown",
   "id": "10bc402d",
   "metadata": {},
   "source": [
    "# Diccionarios\n",
    "conjuntos de elementos separados por llaves-valor\n"
   ]
  },
  {
   "cell_type": "code",
   "execution_count": 116,
   "id": "e0befe71",
   "metadata": {},
   "outputs": [
    {
     "data": {
      "text/plain": [
       "202"
      ]
     },
     "execution_count": 116,
     "metadata": {},
     "output_type": "execute_result"
    }
   ],
   "source": [
    "#(llave:valor) llave=indicd  valor=elemento\n",
    "mi_diccionario = {\"llave\":202}\n",
    "mi_diccionario[\"llave\"]"
   ]
  },
  {
   "cell_type": "code",
   "execution_count": 129,
   "id": "8f7b5e0f",
   "metadata": {
    "scrolled": true
   },
   "outputs": [
    {
     "name": "stdout",
     "output_type": "stream",
     "text": [
      "Mi nombre es:Omar Daniel\n",
      "Mi edad es:33años\n",
      "Mi ocupacion es:Soporte Tecnico\n"
     ]
    }
   ],
   "source": [
    "omar= {\"nombre\":\"Omar Daniel\",\"Edad\":33,\"ocupacion\":\"Soporte Tecnico\"}\n",
    "\n",
    "print(\"Mi nombre es:\"+(omar[\"nombre\"]))\n",
    "\n",
    "print(\"Mi edad es:\" + str(omar[\"Edad\"])+\"años\")\n",
    "\n",
    "print(\"Mi ocupacion es:\"+(omar[\"ocupacion\"]))"
   ]
  },
  {
   "cell_type": "markdown",
   "id": "98af2d77",
   "metadata": {},
   "source": [
    "# Ciclos de Control\n"
   ]
  },
  {
   "cell_type": "code",
   "execution_count": 15,
   "id": "fcd0f892",
   "metadata": {},
   "outputs": [
    {
     "name": "stdout",
     "output_type": "stream",
     "text": [
      "Es menor de edad y aun no puede votar\n"
     ]
    }
   ],
   "source": [
    "edad=17\n",
    "if(edad<18):\n",
    "    print(\"Es menor de edad y aun no puede votar\")\n",
    "elif(edad>=18):\n",
    "    print(\"Es mayor de edad y puede votar en mexico\")\n",
    "    if(edad>=21):\n",
    "            print(\"Es mayor de edad y puede votar en EU\")\n",
    "        \n",
    "else:\n",
    "    print(\"No aplica\")"
   ]
  },
  {
   "cell_type": "markdown",
   "id": "31dcf206",
   "metadata": {},
   "source": [
    "# Sentencia while\n",
    "Realiza una accion mientras se cumpla una condicion\n",
    "\n",
    "while:\n"
   ]
  },
  {
   "cell_type": "code",
   "execution_count": null,
   "id": "a25a500f",
   "metadata": {},
   "outputs": [],
   "source": [
    "bandera=True\n",
    "while (bandera==True):\n",
    "    print(\"la vandera es verdadera\")"
   ]
  },
  {
   "cell_type": "code",
   "execution_count": null,
   "id": "c65b5323",
   "metadata": {},
   "outputs": [],
   "source": [
    "edad=input(\"Cual es tu edad\")\n",
    "while(edad != 15):\n",
    "    print(\"hola\")"
   ]
  },
  {
   "cell_type": "markdown",
   "id": "5fd1c036",
   "metadata": {},
   "source": [
    "# Sentencia For\n",
    "\n",
    "Recorre elementos atraves de una variable lista tuplas diccionariosa arreglos"
   ]
  },
  {
   "cell_type": "code",
   "execution_count": 1,
   "id": "2ef77bf8",
   "metadata": {},
   "outputs": [
    {
     "name": "stdout",
     "output_type": "stream",
     "text": [
      "omar\n",
      "paola\n"
     ]
    }
   ],
   "source": [
    "nombre=[\"omar\",\"paola\"]\n",
    "for son in nombre:\n",
    "    print(son)"
   ]
  },
  {
   "cell_type": "code",
   "execution_count": 4,
   "id": "292609e7",
   "metadata": {},
   "outputs": [
    {
     "name": "stdout",
     "output_type": "stream",
     "text": [
      "Ejecucion1\n",
      "Ejecucion2\n",
      "Ejecucion3\n",
      "Ejecucion4\n",
      "Ejecucion5\n",
      "Ejecucion6\n",
      "Ejecucion7\n",
      "Ejecucion8\n",
      "Ejecucion9\n",
      "Ejecucion10\n",
      "Ejecucion11\n",
      "Ejecucion12\n",
      "Ejecucion13\n",
      "Ejecucion14\n",
      "Ejecucion15\n",
      "Ejecucion16\n",
      "Ejecucion17\n",
      "Ejecucion18\n"
     ]
    }
   ],
   "source": [
    "for edad in range(1,19):\n",
    "    print(\"Ejecucion\"+str(edad))"
   ]
  },
  {
   "cell_type": "code",
   "execution_count": 40,
   "id": "ac283a76",
   "metadata": {},
   "outputs": [
    {
     "data": {
      "text/plain": [
       "[88, 4, 2, 4, 2, 8, 4]"
      ]
     },
     "execution_count": 40,
     "metadata": {},
     "output_type": "execute_result"
    }
   ],
   "source": [
    "lista=[55,88,99,4,65,2,4,2,7,23,8,4]\n",
    "listadi=[]\n",
    "#recorre la lista\n",
    "for elemento in lista:\n",
    "    #pregunta al elemento si es mayor a 30\n",
    "    if (elemento%2==0):\n",
    "      # a=int(elemento/2)\n",
    "        #agrega elemento a la lista\n",
    "        listadi.append(elemento)\n",
    "listadi\n",
    "\n",
    "    \n",
    "    "
   ]
  },
  {
   "cell_type": "markdown",
   "id": "affd355b",
   "metadata": {},
   "source": [
    "# Agenda"
   ]
  },
  {
   "cell_type": "code",
   "execution_count": null,
   "id": "216c3d22",
   "metadata": {},
   "outputs": [
    {
     "name": "stdout",
     "output_type": "stream",
     "text": [
      "\n",
      "*****Agenda Telefonica******\n",
      "|1.Agenda contacto    |\n",
      "|2.Visualizar contacto|\n",
      "|3.Borrar contactos   |\n",
      "|4.Salir de la agenda |\n",
      "¿Que opcion deseas?: 1\n",
      "\n",
      "Nombre:omar\n",
      "Telefono casa: 11\n",
      "Celular: 55\n",
      "\n",
      "*********Contacto guardado**************\n",
      "\n",
      "*****Agenda Telefonica******\n",
      "|1.Agenda contacto    |\n",
      "|2.Visualizar contacto|\n",
      "|3.Borrar contactos   |\n",
      "|4.Salir de la agenda |\n",
      "¿Que opcion deseas?: 2\n",
      "\n",
      "\n",
      "*****Agenda Telefonica******\n",
      "|1.Agenda contacto    |\n",
      "|2.Visualizar contacto|\n",
      "|3.Borrar contactos   |\n",
      "|4.Salir de la agenda |\n",
      "¿Que opcion deseas?: 3\n",
      "\n",
      "\n",
      "**********¡¡Contactos Borrados!!***************\n",
      "\n",
      "\n",
      "*****Agenda Telefonica******\n",
      "|1.Agenda contacto    |\n",
      "|2.Visualizar contacto|\n",
      "|3.Borrar contactos   |\n",
      "|4.Salir de la agenda |\n",
      "¿Que opcion deseas?: 2\n",
      "\n",
      "\n",
      "*****Agenda Telefonica******\n",
      "|1.Agenda contacto    |\n",
      "|2.Visualizar contacto|\n",
      "|3.Borrar contactos   |\n",
      "|4.Salir de la agenda |\n",
      "¿Que opcion deseas?: 1\n",
      "\n",
      "Nombre:omar\n",
      "Telefono casa: 55\n",
      "Celular: 44\n",
      "\n",
      "*********Contacto guardado**************\n",
      "\n",
      "*****Agenda Telefonica******\n",
      "|1.Agenda contacto    |\n",
      "|2.Visualizar contacto|\n",
      "|3.Borrar contactos   |\n",
      "|4.Salir de la agenda |\n"
     ]
    }
   ],
   "source": [
    "contactos=[]\n",
    "bandera=True\n",
    "\n",
    "while(bandera==True):\n",
    "    print(\"\")\n",
    "    print(\"*****Agenda Telefonica******\")\n",
    "    print(\"|1.Agenda contacto    |\")\n",
    "    print(\"|2.Visualizar contacto|\")\n",
    "    print(\"|3.Borrar contactos   |\")\n",
    "    print(\"|4.Salir de la agenda |\")\n",
    "    opcion=int(input(\"¿Que opcion deseas?: \"))\n",
    "    print(\"\")\n",
    "\n",
    "    if(opcion==1):\n",
    "        nombre=input(\"Nombre:\")\n",
    "        telefono=input(\"Telefono casa: \")\n",
    "        celular=input(\"Celular: \")\n",
    "        print(\"\")\n",
    "        contacto={\"nombre\":nombre,\"telefono\":telefono,\"celular\":celular}\n",
    "        print(\"*********Contacto guardado**************\")\n",
    "        \n",
    "    \n",
    "    \n",
    "    elif(opcion==2):\n",
    "        for elemento in contactos:\n",
    "            print(\"Nombre:\" + elemento[\"nombre\"])\n",
    "            print(\"Telefono casa:\"+ elemento[\"telefono\"])\n",
    "            print(\"Celular:\"+ elemento[\"celular\"])\n",
    "            print(\"*********************************************************\")\n",
    "            \n",
    "    elif(opcion==3):\n",
    "        contactos.clear()\n",
    "        \n",
    "    ##if si la lista esta vacia no hay contactos para borrar\n",
    "        print(\"\")\n",
    "        print(\"**********¡¡Contactos Borrados!!***************\")\n",
    "        print(\"\")\n",
    "    \n",
    "    \n",
    "    #elif borrar un contacto especifico\n",
    "    #lugar=int(input(\"Posicion del contacto a eliminar: \"))\n",
    "        #lugar=lugar-1\n",
    "        #contactos.pop(lugar)\n",
    "        ##for elemento in range(0,len(contactos)-1):\n",
    "            ##contactos.remove(elemento)\n",
    "    \n",
    "    elif(opcion==5):\n",
    "        bandera=False\n",
    "        print(\"Listo\")\n",
    "    \n",
    "#else"
   ]
  },
  {
   "cell_type": "code",
   "execution_count": null,
   "id": "10111527",
   "metadata": {},
   "outputs": [],
   "source": []
  },
  {
   "cell_type": "code",
   "execution_count": null,
   "id": "2e230f14",
   "metadata": {},
   "outputs": [],
   "source": []
  }
 ],
 "metadata": {
  "kernelspec": {
   "display_name": "Python 3",
   "language": "python",
   "name": "python3"
  },
  "language_info": {
   "codemirror_mode": {
    "name": "ipython",
    "version": 3
   },
   "file_extension": ".py",
   "mimetype": "text/x-python",
   "name": "python",
   "nbconvert_exporter": "python",
   "pygments_lexer": "ipython3",
   "version": "3.8.8"
  }
 },
 "nbformat": 4,
 "nbformat_minor": 5
}
